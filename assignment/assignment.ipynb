{
  "cells": [
    {
      "cell_type": "markdown",
      "id": "13ad028b-72b7-43ed-aa78-96fd4e518040",
      "metadata": {
        "id": "13ad028b-72b7-43ed-aa78-96fd4e518040"
      },
      "source": [
        "# Assignment: Data Wrangling\n",
        "## `! git clone https://github.com/DS3001/wrangling`\n",
        "## Do Q2, and one of Q1 or Q3."
      ]
    },
    {
      "cell_type": "markdown",
      "id": "5735a4d4-8be8-433a-a351-70eb8002e632",
      "metadata": {
        "id": "5735a4d4-8be8-433a-a351-70eb8002e632"
      },
      "source": [
        "**Q1.** Open the \"tidy_data.pdf\" document in the repo, which is a paper called Tidy Data by Hadley Wickham.\n",
        "\n",
        "  1. Read the abstract. What is this paper about?\n",
        "  > This paper explores ways to make data cleaning easy and effective.  It focuses on data tidying as a way to make data easy to manipulate, model, model and visualize by adhering to specific structures.  Following such a framework allows the development of tools for data analysis, as seen in a case study that is not burdened by data manipulation tasks.\n",
        "\n",
        "\n",
        "  2. Read the introduction. What is the \"tidy data standard\" intended to accomplish?\n",
        "  >  The \"tidy data standard\" has the primary goal of making it easier to clean and explore data through having a standard method to organize data values within a data set.  Wickham's experiences with oddly constructed data sets inspired the creation of packages to reshape data, there was no underlying framework to describe the intuition behind the organization\n",
        "\n",
        "  3. Read the intro to section 2. What does this sentence mean: \"Like families, tidy datasets are all alike but every messy dataset is messy in its own way.\" What does this sentence mean: \"For a given dataset, it’s usually easy to figure out what are observations and what are variables, but it is surprisingly difficult to precisely define variables and observations in general.\"\n",
        "  >The first sentence draws a comparison between families and datasets. The main purpose of this statement is to show that all 'tidy' datasets have the same general framework and properties, while the category of 'messy' datasets has no common structure or underlying framework that connects them. Each 'messy' dataset is structured in a way that may only benefit the creator, and changing it may require intensive effort. The second sentence touches on the fact that it is challenging to place a clear-cut definition on terms, since datasets vary widely in the information they gather and how they are displayed. Making precise definitions about variables and observations is often about which will be the most efficient and beneficial for the data scientist\n",
        "\n",
        "  4. Read Section 2.2. How does Wickham define values, variables, and observations?\n",
        "\n",
        "  > Values are defined as the items that make up a dataset, either quantitative measurements (numbers), or qualitative descriptions (strings).  Variables are used to store values that all refer to the same property or attribute. Observations are collections of values that measure or describe the observation.\n",
        "\n",
        "  5. How is \"Tidy Data\" defined in section 2.3?\n",
        "\n",
        "  > Tidy Data is composed of 3 main concepts: each variable forms a column, each observation forms a row, and each type of observational unit forms a table\n",
        "\n",
        "  6. Read the intro to Section 3 and Section 3.1. What are the 5 most common problems with messy datasets? Why are the data in Table 4 messy? What is \"melting\" a dataset?\n",
        "\n",
        "  > The five most common problems with messy datasets are:Column headers are values and not variable names, multiple variables being stored in one column, having variables stored in both rows and columns, storing multiple types of observational units in the same table, and storing a single observational unit in multiple tables. The data in table 4 are messy because the columns are not actual variables of the data set; rather just specific ranges that the overall \"income\" variable can have. Melting a dataset refers to the process of stacking the data set by turning columns into rows to store the data in a different way\n",
        "\n",
        "  7. Why, specifically, is table 11 messy but table 12 tidy and \"molten\"?\n",
        "\n",
        "  > Table 11 is organized in a similar way to table 4, where the column names are values that can all be stored under a single \"date\" variable.  This data can be melted, the results of which can be seen in table 12b, which also tidies up the element variable.\n",
        "\n",
        "  8. Read Section 6. What is the \"chicken-and-egg\" problem with focusing on tidy data? What does Wickham hope happens in the future with further work on the subject of data wrangling?\n",
        "\n",
        "  > The \"chicken-and-egg\" problem with tidy data is that if tidy data is only as useful as the tools that work with it, then tidy tools are permanently linked to tidy data.  Wickham hopes that the tidy data framework is not the final solution, and that others build upon it to make even better strategies and tools."
      ]
    },
    {
      "cell_type": "markdown",
      "id": "da879ea7-8aac-48a3-b6c2-daea56d2e072",
      "metadata": {
        "id": "da879ea7-8aac-48a3-b6c2-daea56d2e072"
      },
      "source": [
        "**Q2.** This question provides some practice cleaning variables which have common problems.\n",
        "1. Numeric variable: For `./data/airbnb_hw.csv`, clean the `Price` variable as well as you can, and explain the choices you make. How many missing values do you end up with? (Hint: What happens to the formatting when a price goes over 999 dollars, say from 675 to 1,112?)\n",
        "2. Categorical variable: For the `./data/sharks.csv` data covered in the lecture, clean the \"Type\" variable as well as you can, and explain the choices you make.\n",
        "3. Dummy variable: For the pretrial data covered in the lecture, clean the `WhetherDefendantWasReleasedPretrial` variable as well as you can, and, in particular, replace missing values with `np.nan`.\n",
        "4. Missing values, not at random: For the pretrial data covered in the lecture, clean the `ImposedSentenceAllChargeInContactEvent` variable as well as you can, and explain the choices you make. (Hint: Look at the `SentenceTypeAllChargesAtConvictionInContactEvent` variable.)"
      ]
    },
    {
      "cell_type": "code",
      "source": [
        "import pandas as pd\n",
        "import numpy as np\n",
        "import seaborn as sns"
      ],
      "metadata": {
        "id": "nPkw0nFo0SjV"
      },
      "id": "nPkw0nFo0SjV",
      "execution_count": 1,
      "outputs": []
    },
    {
      "cell_type": "markdown",
      "source": [
        "\n",
        "\n",
        "1.   Numeric variable: For ./data/airbnb_hw.csv, clean the Price variable as well as you can, and explain the choices you make. How many missing values do you end up with? (Hint: What happens to the formatting when a price goes over 999 dollars, say from 675 to 1,112?)\n",
        "\n"
      ],
      "metadata": {
        "id": "LeuRd52992ot"
      },
      "id": "LeuRd52992ot"
    },
    {
      "cell_type": "code",
      "source": [
        "df = pd.read_csv('/content/wrangling/assignment/data/airbnb_hw.csv', low_memory=False)"
      ],
      "metadata": {
        "id": "Yal9pUho0aDb"
      },
      "id": "Yal9pUho0aDb",
      "execution_count": 2,
      "outputs": []
    },
    {
      "cell_type": "code",
      "source": [
        "print(df.shape, '\\n')\n",
        "\n",
        "price = df[\"Price\"]\n",
        "\n",
        "price = price.str.replace(',', '') # take out all the commas from the values that are above 1000\n",
        "price = pd.to_numeric(price, errors = 'coerce') # take the strings and make them numeric\n",
        "print(price.unique(),'\\n')\n",
        "print(\"Total Missing: \", sum(price.isnull()))\n",
        "\n",
        "df[\"Price\"] = price   # Replace with cleaned variables\n",
        "del price    # Delete temp variables"
      ],
      "metadata": {
        "id": "rPfFJYRi1hGw",
        "outputId": "e296508b-ae26-4ca6-a501-261a170dcdf4",
        "colab": {
          "base_uri": "https://localhost:8080/"
        }
      },
      "id": "rPfFJYRi1hGw",
      "execution_count": 3,
      "outputs": [
        {
          "output_type": "stream",
          "name": "stdout",
          "text": [
            "(30478, 13) \n",
            "\n",
            "[  145    37    28   199   549   149   250    90   270   290   170    59\n",
            "    49    68   285    75   100   150   700   125   175    40    89    95\n",
            "    99   499   120    79   110   180   143   230   350   135    85    60\n",
            "    70    55    44   200   165   115    74    84   129    50   185    80\n",
            "   190   140    45    65   225   600   109  1990    73   240    72   105\n",
            "   155   160    42   132   117   295   280   159   107    69   239   220\n",
            "   399   130   375   585   275   139   260    35   133   300   289   179\n",
            "    98   195    29    27    39   249   192   142   169  1000   131   138\n",
            "   113   122   329   101   475   238   272   308   126   235   315   248\n",
            "   128    56   207   450   215   210   385   445   136   247   118    77\n",
            "    76    92   198   205   299   222   245   104   153   349   114   320\n",
            "   292   226   420   500   325   307    78   265   108   123   189    32\n",
            "    58    86   219   800   335    63   229   425    67    87  1200   158\n",
            "   650   234   310   695   400   166   119    62   168   340   479    43\n",
            "   395   144    52    47   529   187   209   233    82   269   163   172\n",
            "   305   156   550   435   137   124    48   279   330  5000   134   378\n",
            "    97   277    64   193   147   186   264    30  3000   112    94   379\n",
            "    57   415   236   410   214    88    66    71   171   157   545  1500\n",
            "    83    96  1800    81   188   380   255   505    54    33   174    93\n",
            "   740   640  1300   440   599   357  1239   495   127  5999   178   348\n",
            "   152   242   183   253   750   259   365   273   197   397   103   389\n",
            "   355   559    38   203   999   141   162   333   698    46   360   895\n",
            "    10    41   206   281   449   388   212   102   201  2750  4750   432\n",
            "   675   167   390   298   339   194   302   211   595   191    53   361\n",
            "   480  8000  4500   459   997   345   216   218   111   735   276    91\n",
            "   490   850   398    36   775   267   625   336  2500   176   725  3750\n",
            "   469   106   460   287   575   227   263    25   228   208   177   880\n",
            "   148   116   685   470   217   164    61   645   699   405   252   319\n",
            "   268   419   343   525   311   840   154   294   950   409   184   257\n",
            "   204   241  2000   412   121   288   196   900   647   524  1750   309\n",
            "   510  1495  1700   799   383   372   492   327  1999   656   224   173\n",
            "   875  1170   795   690   146   465  1100   151   274   429   825   282\n",
            "   256  1111   620   271   161    51   855   579  1174   430    20   899\n",
            "   649   485   181   455  4000   243   342   590   560   374   437   232\n",
            "   359   985    31   244   254   723   237   428   370    34  1400   580\n",
            "  2520   221   749  1600  2695   306   202   680   570   520   223  2295\n",
            "   213  1065   346    24   286   296   266    26   995  1368   393   182\n",
            "   635   258   780   589   347  1250  1350   446  3200  1050  1650  1550\n",
            "   975   323  6500  2499  1850  2250   715   461   540   356   439   384\n",
            "   569  1900    22   785   626   830   318   444   321   401  1499   888\n",
            "   369   770   386   366   344   630   313   597   262   509 10000   278\n",
            "   312   789  1195   422    21   765  3500   945   326  3100  2486  3390\n",
            "  1356  2599   472   454   328   396   291] \n",
            "\n",
            "Total Missing:  0\n"
          ]
        }
      ]
    },
    {
      "cell_type": "markdown",
      "source": [
        "\n",
        "2.   Categorical variable: For the ./data/sharks.csv data covered in the lecture, clean the \"Type\" variable as well as you can, and explain the choices you make.\n",
        "\n"
      ],
      "metadata": {
        "id": "F4W4it_p99Xj"
      },
      "id": "F4W4it_p99Xj"
    },
    {
      "cell_type": "code",
      "source": [
        "df = pd.read_csv('/content/wrangling/data/sharks.csv', low_memory=False)\n",
        "df[\"Type\"].unique()"
      ],
      "metadata": {
        "id": "FRUZ45El-EyE",
        "outputId": "534a304c-2b68-4f6c-a695-46a340aabd98",
        "colab": {
          "base_uri": "https://localhost:8080/"
        }
      },
      "id": "FRUZ45El-EyE",
      "execution_count": 4,
      "outputs": [
        {
          "output_type": "execute_result",
          "data": {
            "text/plain": [
              "array(['Unprovoked', 'Provoked', 'Questionable', 'Watercraft',\n",
              "       'Unconfirmed', 'Unverified', 'Invalid', 'Under investigation',\n",
              "       'Boating', 'Sea Disaster', nan, 'Boat', 'Boatomg'], dtype=object)"
            ]
          },
          "metadata": {},
          "execution_count": 4
        }
      ]
    },
    {
      "cell_type": "code",
      "source": [
        "print(df[\"Type\"].value_counts())"
      ],
      "metadata": {
        "id": "iX9iF5FRntrJ",
        "outputId": "32989754-e013-460b-a002-d0e246aa6f44",
        "colab": {
          "base_uri": "https://localhost:8080/"
        }
      },
      "id": "iX9iF5FRntrJ",
      "execution_count": 5,
      "outputs": [
        {
          "output_type": "stream",
          "name": "stdout",
          "text": [
            "Unprovoked             4716\n",
            "Provoked                593\n",
            "Invalid                 552\n",
            "Sea Disaster            239\n",
            "Watercraft              142\n",
            "Boat                    109\n",
            "Boating                  92\n",
            "Questionable             10\n",
            "Unconfirmed               1\n",
            "Unverified                1\n",
            "Under investigation       1\n",
            "Boatomg                   1\n",
            "Name: Type, dtype: int64\n"
          ]
        }
      ]
    },
    {
      "cell_type": "code",
      "source": [
        "\n",
        "type = df[\"Type\"]   # Create a temporary vector of the variable to be cleaned\n",
        "type = type.replace([\"Sea Disaster\", \"Boat\", \"Boating\", \"Boatomg\"], \"Watercraft\")   # Group similar/mistyped columns into one\n",
        "type = type.replace([\"Invalid\", \"Questionable\", \"Unconfirmed\", \"Unverified\", \"Under investigation\"], np.nan)    # Group all the types that are not clear\n",
        "type.value_counts()\n",
        "\n",
        "df[\"Type\"] = type   # Replace with cleaned variables\n",
        "del type    # Delete temp variables"
      ],
      "metadata": {
        "id": "gyoNYThe-oB0"
      },
      "id": "gyoNYThe-oB0",
      "execution_count": 6,
      "outputs": []
    },
    {
      "cell_type": "markdown",
      "source": [
        "> To clean the \"Type\" variable, the unique values were identified, and it was found that attacks could be reclassified into a broader category that would cover all the incidents involving watercraft.  This also took care of typos (\"Boatomg\").  Also, incidents with an unclear or not confirmed type of attack were replaced with nan"
      ],
      "metadata": {
        "id": "pvjrnu-znADw"
      },
      "id": "pvjrnu-znADw"
    },
    {
      "cell_type": "markdown",
      "source": [
        "\n",
        "3. Dummy variable: For the pretrial data covered in the lecture, clean the WhetherDefendantWasReleasedPretrial variable as well as you can, and, in particular, replace missing values with np.nan.\n",
        "\n"
      ],
      "metadata": {
        "id": "zgZ41H1yAajo"
      },
      "id": "zgZ41H1yAajo"
    },
    {
      "cell_type": "code",
      "source": [
        "df = pd.read_parquet(\"/content/wrangling/data/justice_data.parquet\")"
      ],
      "metadata": {
        "id": "SC2dTOF4BQOz"
      },
      "id": "SC2dTOF4BQOz",
      "execution_count": 7,
      "outputs": []
    },
    {
      "cell_type": "code",
      "source": [
        "release = df[\"WhetherDefendantWasReleasedPretrial\"]\n",
        "print(release.unique(),'\\n')\n",
        "print(release.value_counts(),'\\n')\n",
        "release = release.replace(9, np.nan)    # From the codebook, entries with 9's in this variable are \"unclear\"\n",
        "print(release.value_counts(),'\\n')\n",
        "print(sum(release.isnull()))\n",
        "df[\"WhetherDefendantWasReleasedPretrial\"] = release   # Replace with cleaned variables\n",
        "del release   # Delete temp variables"
      ],
      "metadata": {
        "id": "sEDOmGC6CLg7",
        "outputId": "e90137c5-cb90-4cc8-999d-e8ea00a7ee88",
        "colab": {
          "base_uri": "https://localhost:8080/"
        }
      },
      "id": "sEDOmGC6CLg7",
      "execution_count": 8,
      "outputs": [
        {
          "output_type": "stream",
          "name": "stdout",
          "text": [
            "[9 0 1] \n",
            "\n",
            "1    19154\n",
            "0     3801\n",
            "9       31\n",
            "Name: WhetherDefendantWasReleasedPretrial, dtype: int64 \n",
            "\n",
            "1.0    19154\n",
            "0.0     3801\n",
            "Name: WhetherDefendantWasReleasedPretrial, dtype: int64 \n",
            "\n",
            "31\n"
          ]
        }
      ]
    },
    {
      "cell_type": "markdown",
      "source": [
        "\n",
        "4.  Missing values, not at random: For the pretrial data covered in the lecture, clean the ImposedSentenceAllChargeInContactEvent variable as well as you can, and explain the choices you make. (Hint: Look at the SentenceTypeAllChargesAtConvictionInContactEvent variable.)\n",
        "\n"
      ],
      "metadata": {
        "id": "xkuw6X3tAk_Q"
      },
      "id": "xkuw6X3tAk_Q"
    },
    {
      "cell_type": "code",
      "source": [
        "length = df[\"ImposedSentenceAllChargeInContactEvent\"]\n",
        "type = df[\"SentenceTypeAllChargesAtConvictionInContactEvent\"]\n",
        "\n",
        "length = pd.to_numeric(length, errors = \"coerce\")   # convert to numeric, coercing errors\n",
        "length_na = length.isnull()   # make a dummy variable for missing\n",
        "print(np.sum(length_na),'\\n')   # Lots of missing variables\n",
        "\n",
        "print(pd.crosstab(length_na, type), '\\n')\n",
        "length = length.mask(type == 4, 0) # replace 4 (cases where charges were dismissed) with a 0\n",
        "length = length.mask(type == 9, np.nan)   # replace 9 (missing or not applicable) with nan\n",
        "\n",
        "length_na = length.isnull()   # update the dummy variable\n",
        "print(pd.crosstab(length_na, type), '\\n')\n",
        "print(np.sum(length_na),'\\n')   # amount of missing decreased greatly\n",
        "\n",
        "df[\"ImposedSentenceAllChargeInContactEvent\"] = length   # Replace with cleaned variables\n",
        "del length, type    # Delete temp variables"
      ],
      "metadata": {
        "id": "GdsmgXQZioV3",
        "outputId": "3f9cdc18-9284-4b71-f289-75d618fe5cae",
        "colab": {
          "base_uri": "https://localhost:8080/"
        }
      },
      "id": "GdsmgXQZioV3",
      "execution_count": 9,
      "outputs": [
        {
          "output_type": "stream",
          "name": "stdout",
          "text": [
            "9053 \n",
            "\n",
            "SentenceTypeAllChargesAtConvictionInContactEvent     0     1    2     4    9\n",
            "ImposedSentenceAllChargeInContactEvent                                      \n",
            "False                                             8720  4299  914     0    0\n",
            "True                                                 0     0    0  8779  274 \n",
            "\n",
            "SentenceTypeAllChargesAtConvictionInContactEvent     0     1    2     4    9\n",
            "ImposedSentenceAllChargeInContactEvent                                      \n",
            "False                                             8720  4299  914  8779    0\n",
            "True                                                 0     0    0     0  274 \n",
            "\n",
            "274 \n",
            "\n"
          ]
        }
      ]
    },
    {
      "cell_type": "markdown",
      "id": "649494cd-cfd6-4f80-992a-9994fc19e1d5",
      "metadata": {
        "id": "649494cd-cfd6-4f80-992a-9994fc19e1d5"
      },
      "source": [
        "**Q3.** Many important datasets contain a race variable, typically limited to a handful of values often including Black, White, Asian, Latino, and Indigenous. This question looks at data gathering efforts on this variable by the U.S. Federal government.\n",
        "\n",
        "1. How did the most recent US Census gather data on race?\n",
        "2. Why do we gather these data? What role do these kinds of data play in politics and society? Why does data quality matter?\n",
        "3. Please provide a constructive criticism of how the Census was conducted: What was done well? What do you think was missing? How should future large scale surveys be adjusted to best reflect the diversity of the population? Could some of the Census' good practices be adopted more widely to gather richer and more useful data?\n",
        "4. How did the Census gather data on sex and gender? Please provide a similar constructive criticism of their practices.\n",
        "5. When it comes to cleaning data, what concerns do you have about protected characteristics like sex, gender, sexual identity, or race? What challenges can you imagine arising when there are missing values? What good or bad practices might people adopt, and why?\n",
        "6. Suppose someone invented an algorithm to impute values for protected characteristics like race, gender, sex, or sexuality. What kinds of concerns would you have?"
      ]
    }
  ],
  "metadata": {
    "colab": {
      "provenance": []
    },
    "kernelspec": {
      "display_name": "Python 3 (ipykernel)",
      "language": "python",
      "name": "python3"
    },
    "language_info": {
      "codemirror_mode": {
        "name": "ipython",
        "version": 3
      },
      "file_extension": ".py",
      "mimetype": "text/x-python",
      "name": "python",
      "nbconvert_exporter": "python",
      "pygments_lexer": "ipython3",
      "version": "3.10.4"
    }
  },
  "nbformat": 4,
  "nbformat_minor": 5
}